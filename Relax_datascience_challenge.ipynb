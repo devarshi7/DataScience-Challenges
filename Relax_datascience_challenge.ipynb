{
 "cells": [
  {
   "cell_type": "code",
   "execution_count": 1,
   "metadata": {},
   "outputs": [],
   "source": [
    "import numpy as np\n",
    "import pandas as pd\n",
    "from pathlib import Path\n",
    "from datetime import timedelta\n",
    "from datetime import datetime\n",
    "import matplotlib.pyplot as plt\n",
    "from sklearn.preprocessing import LabelEncoder\n",
    "from sklearn.model_selection import train_test_split\n",
    "from sklearn.model_selection import GridSearchCV\n",
    "from sklearn.linear_model import LogisticRegression\n",
    "from sklearn.ensemble import RandomForestClassifier\n",
    "import xgboost as xgb\n",
    "from xgboost.sklearn import XGBClassifier\n",
    "from sklearn.metrics import classification_report, accuracy_score"
   ]
  },
  {
   "cell_type": "code",
   "execution_count": 2,
   "metadata": {},
   "outputs": [],
   "source": [
    "path = Path.cwd().joinpath('relax_challenge/takehome_user_engagement.csv')\n",
    "user_eng = pd.read_csv(path)\n",
    "path_ = Path.cwd().joinpath('relax_challenge/takehome_users.csv')\n",
    "users = pd.read_csv(path_, encoding='latin-1')"
   ]
  },
  {
   "cell_type": "code",
   "execution_count": 3,
   "metadata": {},
   "outputs": [
    {
     "data": {
      "text/html": [
       "<div>\n",
       "<style scoped>\n",
       "    .dataframe tbody tr th:only-of-type {\n",
       "        vertical-align: middle;\n",
       "    }\n",
       "\n",
       "    .dataframe tbody tr th {\n",
       "        vertical-align: top;\n",
       "    }\n",
       "\n",
       "    .dataframe thead th {\n",
       "        text-align: right;\n",
       "    }\n",
       "</style>\n",
       "<table border=\"1\" class=\"dataframe\">\n",
       "  <thead>\n",
       "    <tr style=\"text-align: right;\">\n",
       "      <th></th>\n",
       "      <th>object_id</th>\n",
       "      <th>creation_time</th>\n",
       "      <th>name</th>\n",
       "      <th>email</th>\n",
       "      <th>creation_source</th>\n",
       "      <th>last_session_creation_time</th>\n",
       "      <th>opted_in_to_mailing_list</th>\n",
       "      <th>enabled_for_marketing_drip</th>\n",
       "      <th>org_id</th>\n",
       "      <th>invited_by_user_id</th>\n",
       "    </tr>\n",
       "  </thead>\n",
       "  <tbody>\n",
       "    <tr>\n",
       "      <th>11995</th>\n",
       "      <td>11996</td>\n",
       "      <td>2013-09-06 06:14:15</td>\n",
       "      <td>Meier Sophia</td>\n",
       "      <td>SophiaMeier@gustr.com</td>\n",
       "      <td>ORG_INVITE</td>\n",
       "      <td>1.378448e+09</td>\n",
       "      <td>0</td>\n",
       "      <td>0</td>\n",
       "      <td>89</td>\n",
       "      <td>8263.0</td>\n",
       "    </tr>\n",
       "    <tr>\n",
       "      <th>11996</th>\n",
       "      <td>11997</td>\n",
       "      <td>2013-01-10 18:28:37</td>\n",
       "      <td>Fisher Amelie</td>\n",
       "      <td>AmelieFisher@gmail.com</td>\n",
       "      <td>SIGNUP_GOOGLE_AUTH</td>\n",
       "      <td>1.358275e+09</td>\n",
       "      <td>0</td>\n",
       "      <td>0</td>\n",
       "      <td>200</td>\n",
       "      <td>NaN</td>\n",
       "    </tr>\n",
       "    <tr>\n",
       "      <th>11997</th>\n",
       "      <td>11998</td>\n",
       "      <td>2014-04-27 12:45:16</td>\n",
       "      <td>Haynes Jake</td>\n",
       "      <td>JakeHaynes@cuvox.de</td>\n",
       "      <td>GUEST_INVITE</td>\n",
       "      <td>1.398603e+09</td>\n",
       "      <td>1</td>\n",
       "      <td>1</td>\n",
       "      <td>83</td>\n",
       "      <td>8074.0</td>\n",
       "    </tr>\n",
       "    <tr>\n",
       "      <th>11998</th>\n",
       "      <td>11999</td>\n",
       "      <td>2012-05-31 11:55:59</td>\n",
       "      <td>Faber Annett</td>\n",
       "      <td>mhaerzxp@iuxiw.com</td>\n",
       "      <td>PERSONAL_PROJECTS</td>\n",
       "      <td>1.338638e+09</td>\n",
       "      <td>0</td>\n",
       "      <td>0</td>\n",
       "      <td>6</td>\n",
       "      <td>NaN</td>\n",
       "    </tr>\n",
       "    <tr>\n",
       "      <th>11999</th>\n",
       "      <td>12000</td>\n",
       "      <td>2014-01-26 08:57:12</td>\n",
       "      <td>Lima Thaís</td>\n",
       "      <td>ThaisMeloLima@hotmail.com</td>\n",
       "      <td>SIGNUP</td>\n",
       "      <td>1.390727e+09</td>\n",
       "      <td>0</td>\n",
       "      <td>1</td>\n",
       "      <td>0</td>\n",
       "      <td>NaN</td>\n",
       "    </tr>\n",
       "  </tbody>\n",
       "</table>\n",
       "</div>"
      ],
      "text/plain": [
       "       object_id        creation_time           name  \\\n",
       "11995      11996  2013-09-06 06:14:15   Meier Sophia   \n",
       "11996      11997  2013-01-10 18:28:37  Fisher Amelie   \n",
       "11997      11998  2014-04-27 12:45:16    Haynes Jake   \n",
       "11998      11999  2012-05-31 11:55:59   Faber Annett   \n",
       "11999      12000  2014-01-26 08:57:12     Lima Thaís   \n",
       "\n",
       "                           email     creation_source  \\\n",
       "11995      SophiaMeier@gustr.com          ORG_INVITE   \n",
       "11996     AmelieFisher@gmail.com  SIGNUP_GOOGLE_AUTH   \n",
       "11997        JakeHaynes@cuvox.de        GUEST_INVITE   \n",
       "11998         mhaerzxp@iuxiw.com   PERSONAL_PROJECTS   \n",
       "11999  ThaisMeloLima@hotmail.com              SIGNUP   \n",
       "\n",
       "       last_session_creation_time  opted_in_to_mailing_list  \\\n",
       "11995                1.378448e+09                         0   \n",
       "11996                1.358275e+09                         0   \n",
       "11997                1.398603e+09                         1   \n",
       "11998                1.338638e+09                         0   \n",
       "11999                1.390727e+09                         0   \n",
       "\n",
       "       enabled_for_marketing_drip  org_id  invited_by_user_id  \n",
       "11995                           0      89              8263.0  \n",
       "11996                           0     200                 NaN  \n",
       "11997                           1      83              8074.0  \n",
       "11998                           0       6                 NaN  \n",
       "11999                           1       0                 NaN  "
      ]
     },
     "execution_count": 3,
     "metadata": {},
     "output_type": "execute_result"
    }
   ],
   "source": [
    "users.tail()"
   ]
  },
  {
   "cell_type": "code",
   "execution_count": 4,
   "metadata": {},
   "outputs": [
    {
     "name": "stdout",
     "output_type": "stream",
     "text": [
      "<class 'pandas.core.frame.DataFrame'>\n",
      "RangeIndex: 12000 entries, 0 to 11999\n",
      "Data columns (total 10 columns):\n",
      " #   Column                      Non-Null Count  Dtype  \n",
      "---  ------                      --------------  -----  \n",
      " 0   object_id                   12000 non-null  int64  \n",
      " 1   creation_time               12000 non-null  object \n",
      " 2   name                        12000 non-null  object \n",
      " 3   email                       12000 non-null  object \n",
      " 4   creation_source             12000 non-null  object \n",
      " 5   last_session_creation_time  8823 non-null   float64\n",
      " 6   opted_in_to_mailing_list    12000 non-null  int64  \n",
      " 7   enabled_for_marketing_drip  12000 non-null  int64  \n",
      " 8   org_id                      12000 non-null  int64  \n",
      " 9   invited_by_user_id          6417 non-null   float64\n",
      "dtypes: float64(2), int64(4), object(4)\n",
      "memory usage: 937.6+ KB\n"
     ]
    }
   ],
   "source": [
    "users.info()"
   ]
  },
  {
   "cell_type": "code",
   "execution_count": 5,
   "metadata": {
    "scrolled": false
   },
   "outputs": [
    {
     "data": {
      "text/html": [
       "<div>\n",
       "<style scoped>\n",
       "    .dataframe tbody tr th:only-of-type {\n",
       "        vertical-align: middle;\n",
       "    }\n",
       "\n",
       "    .dataframe tbody tr th {\n",
       "        vertical-align: top;\n",
       "    }\n",
       "\n",
       "    .dataframe thead th {\n",
       "        text-align: right;\n",
       "    }\n",
       "</style>\n",
       "<table border=\"1\" class=\"dataframe\">\n",
       "  <thead>\n",
       "    <tr style=\"text-align: right;\">\n",
       "      <th></th>\n",
       "      <th>object_id</th>\n",
       "      <th>creation_time</th>\n",
       "      <th>name</th>\n",
       "      <th>email</th>\n",
       "      <th>creation_source</th>\n",
       "      <th>last_session_creation_time</th>\n",
       "      <th>opted_in_to_mailing_list</th>\n",
       "      <th>enabled_for_marketing_drip</th>\n",
       "      <th>org_id</th>\n",
       "      <th>invited_by_user_id</th>\n",
       "    </tr>\n",
       "  </thead>\n",
       "  <tbody>\n",
       "    <tr>\n",
       "      <th>6</th>\n",
       "      <td>7</td>\n",
       "      <td>2012-12-16 13:24:32</td>\n",
       "      <td>Sewell Tyler</td>\n",
       "      <td>TylerSewell@jourrapide.com</td>\n",
       "      <td>SIGNUP</td>\n",
       "      <td>1.356010e+09</td>\n",
       "      <td>0</td>\n",
       "      <td>1</td>\n",
       "      <td>37</td>\n",
       "      <td>NaN</td>\n",
       "    </tr>\n",
       "    <tr>\n",
       "      <th>7</th>\n",
       "      <td>8</td>\n",
       "      <td>2013-07-31 05:34:02</td>\n",
       "      <td>Hamilton Danielle</td>\n",
       "      <td>DanielleHamilton@yahoo.com</td>\n",
       "      <td>PERSONAL_PROJECTS</td>\n",
       "      <td>NaN</td>\n",
       "      <td>1</td>\n",
       "      <td>1</td>\n",
       "      <td>74</td>\n",
       "      <td>NaN</td>\n",
       "    </tr>\n",
       "    <tr>\n",
       "      <th>8</th>\n",
       "      <td>9</td>\n",
       "      <td>2013-11-05 04:04:24</td>\n",
       "      <td>Amsel Paul</td>\n",
       "      <td>PaulAmsel@hotmail.com</td>\n",
       "      <td>PERSONAL_PROJECTS</td>\n",
       "      <td>NaN</td>\n",
       "      <td>0</td>\n",
       "      <td>0</td>\n",
       "      <td>302</td>\n",
       "      <td>NaN</td>\n",
       "    </tr>\n",
       "    <tr>\n",
       "      <th>10</th>\n",
       "      <td>11</td>\n",
       "      <td>2013-12-26 03:55:54</td>\n",
       "      <td>Paulsen Malthe</td>\n",
       "      <td>MaltheAPaulsen@gustr.com</td>\n",
       "      <td>SIGNUP</td>\n",
       "      <td>1.388117e+09</td>\n",
       "      <td>0</td>\n",
       "      <td>0</td>\n",
       "      <td>69</td>\n",
       "      <td>NaN</td>\n",
       "    </tr>\n",
       "    <tr>\n",
       "      <th>11</th>\n",
       "      <td>12</td>\n",
       "      <td>2014-04-17 23:48:38</td>\n",
       "      <td>Mathiesen Lærke</td>\n",
       "      <td>LaerkeLMathiesen@cuvox.de</td>\n",
       "      <td>ORG_INVITE</td>\n",
       "      <td>NaN</td>\n",
       "      <td>0</td>\n",
       "      <td>0</td>\n",
       "      <td>130</td>\n",
       "      <td>9270.0</td>\n",
       "    </tr>\n",
       "  </tbody>\n",
       "</table>\n",
       "</div>"
      ],
      "text/plain": [
       "    object_id        creation_time               name  \\\n",
       "6           7  2012-12-16 13:24:32       Sewell Tyler   \n",
       "7           8  2013-07-31 05:34:02  Hamilton Danielle   \n",
       "8           9  2013-11-05 04:04:24         Amsel Paul   \n",
       "10         11  2013-12-26 03:55:54     Paulsen Malthe   \n",
       "11         12  2014-04-17 23:48:38    Mathiesen Lærke   \n",
       "\n",
       "                         email    creation_source  last_session_creation_time  \\\n",
       "6   TylerSewell@jourrapide.com             SIGNUP                1.356010e+09   \n",
       "7   DanielleHamilton@yahoo.com  PERSONAL_PROJECTS                         NaN   \n",
       "8        PaulAmsel@hotmail.com  PERSONAL_PROJECTS                         NaN   \n",
       "10    MaltheAPaulsen@gustr.com             SIGNUP                1.388117e+09   \n",
       "11   LaerkeLMathiesen@cuvox.de         ORG_INVITE                         NaN   \n",
       "\n",
       "    opted_in_to_mailing_list  enabled_for_marketing_drip  org_id  \\\n",
       "6                          0                           1      37   \n",
       "7                          1                           1      74   \n",
       "8                          0                           0     302   \n",
       "10                         0                           0      69   \n",
       "11                         0                           0     130   \n",
       "\n",
       "    invited_by_user_id  \n",
       "6                  NaN  \n",
       "7                  NaN  \n",
       "8                  NaN  \n",
       "10                 NaN  \n",
       "11              9270.0  "
      ]
     },
     "execution_count": 5,
     "metadata": {},
     "output_type": "execute_result"
    }
   ],
   "source": [
    "# get null values\n",
    "users[users.isna().any(axis=1)].head()"
   ]
  },
  {
   "cell_type": "code",
   "execution_count": 6,
   "metadata": {},
   "outputs": [
    {
     "data": {
      "text/plain": [
       "array([    1,     2,     3, ..., 11998, 11999, 12000], dtype=int64)"
      ]
     },
     "execution_count": 6,
     "metadata": {},
     "output_type": "execute_result"
    }
   ],
   "source": [
    "# get unique user ids (object_id)\n",
    "users.object_id.unique()"
   ]
  },
  {
   "cell_type": "markdown",
   "metadata": {},
   "source": [
    "We can see there are null values in 'invited_by_user_id'. Since the user ids/object_ids range from 1 - 12000, we should set the null values to 0 to indicated the user was not invited by any other user.\n",
    "We should also set the data type to integer since this column contains integer id values."
   ]
  },
  {
   "cell_type": "code",
   "execution_count": 7,
   "metadata": {},
   "outputs": [],
   "source": [
    "users['invited_by_user_id'] = users['invited_by_user_id'].fillna(0).astype('int')"
   ]
  },
  {
   "cell_type": "markdown",
   "metadata": {},
   "source": [
    "Since both 'creation_time' and 'last_session_creation_time' are time values, we should convert them to datetime instances."
   ]
  },
  {
   "cell_type": "code",
   "execution_count": 8,
   "metadata": {},
   "outputs": [],
   "source": [
    "users = users.astype({'creation_time': 'datetime64[s]', 'last_session_creation_time': 'datetime64[s]'})"
   ]
  },
  {
   "cell_type": "code",
   "execution_count": 9,
   "metadata": {},
   "outputs": [
    {
     "data": {
      "text/html": [
       "<div>\n",
       "<style scoped>\n",
       "    .dataframe tbody tr th:only-of-type {\n",
       "        vertical-align: middle;\n",
       "    }\n",
       "\n",
       "    .dataframe tbody tr th {\n",
       "        vertical-align: top;\n",
       "    }\n",
       "\n",
       "    .dataframe thead th {\n",
       "        text-align: right;\n",
       "    }\n",
       "</style>\n",
       "<table border=\"1\" class=\"dataframe\">\n",
       "  <thead>\n",
       "    <tr style=\"text-align: right;\">\n",
       "      <th></th>\n",
       "      <th>time_stamp</th>\n",
       "      <th>user_id</th>\n",
       "      <th>visited</th>\n",
       "    </tr>\n",
       "  </thead>\n",
       "  <tbody>\n",
       "    <tr>\n",
       "      <th>207912</th>\n",
       "      <td>2013-09-06 06:14:15</td>\n",
       "      <td>11996</td>\n",
       "      <td>1</td>\n",
       "    </tr>\n",
       "    <tr>\n",
       "      <th>207913</th>\n",
       "      <td>2013-01-15 18:28:37</td>\n",
       "      <td>11997</td>\n",
       "      <td>1</td>\n",
       "    </tr>\n",
       "    <tr>\n",
       "      <th>207914</th>\n",
       "      <td>2014-04-27 12:45:16</td>\n",
       "      <td>11998</td>\n",
       "      <td>1</td>\n",
       "    </tr>\n",
       "    <tr>\n",
       "      <th>207915</th>\n",
       "      <td>2012-06-02 11:55:59</td>\n",
       "      <td>11999</td>\n",
       "      <td>1</td>\n",
       "    </tr>\n",
       "    <tr>\n",
       "      <th>207916</th>\n",
       "      <td>2014-01-26 08:57:12</td>\n",
       "      <td>12000</td>\n",
       "      <td>1</td>\n",
       "    </tr>\n",
       "  </tbody>\n",
       "</table>\n",
       "</div>"
      ],
      "text/plain": [
       "                 time_stamp  user_id  visited\n",
       "207912  2013-09-06 06:14:15    11996        1\n",
       "207913  2013-01-15 18:28:37    11997        1\n",
       "207914  2014-04-27 12:45:16    11998        1\n",
       "207915  2012-06-02 11:55:59    11999        1\n",
       "207916  2014-01-26 08:57:12    12000        1"
      ]
     },
     "execution_count": 9,
     "metadata": {},
     "output_type": "execute_result"
    }
   ],
   "source": [
    "user_eng.tail()"
   ]
  },
  {
   "cell_type": "code",
   "execution_count": 10,
   "metadata": {},
   "outputs": [
    {
     "name": "stdout",
     "output_type": "stream",
     "text": [
      "<class 'pandas.core.frame.DataFrame'>\n",
      "RangeIndex: 207917 entries, 0 to 207916\n",
      "Data columns (total 3 columns):\n",
      " #   Column      Non-Null Count   Dtype \n",
      "---  ------      --------------   ----- \n",
      " 0   time_stamp  207917 non-null  object\n",
      " 1   user_id     207917 non-null  int64 \n",
      " 2   visited     207917 non-null  int64 \n",
      "dtypes: int64(2), object(1)\n",
      "memory usage: 4.8+ MB\n"
     ]
    }
   ],
   "source": [
    "user_eng.info()"
   ]
  },
  {
   "cell_type": "code",
   "execution_count": 11,
   "metadata": {},
   "outputs": [
    {
     "name": "stdout",
     "output_type": "stream",
     "text": [
      "Range of user ids : 1 - 12000 \n",
      "Number of unique user ids: 8823 \n"
     ]
    }
   ],
   "source": [
    "unique_users = user_eng.user_id.unique()\n",
    "print('Range of user ids : {} - {} \\nNumber of unique user ids: {} '.format(\n",
    "       unique_users[0], unique_users[-1], len(unique_users)))"
   ]
  },
  {
   "cell_type": "code",
   "execution_count": 12,
   "metadata": {},
   "outputs": [
    {
     "data": {
      "text/plain": [
       "time_stamp    datetime64[ns]\n",
       "user_id                int64\n",
       "visited                int64\n",
       "dtype: object"
      ]
     },
     "execution_count": 12,
     "metadata": {},
     "output_type": "execute_result"
    }
   ],
   "source": [
    "user_eng = user_eng.astype({'time_stamp' :'datetime64'})\n",
    "user_eng.dtypes"
   ]
  },
  {
   "cell_type": "code",
   "execution_count": 13,
   "metadata": {},
   "outputs": [],
   "source": [
    "#user_eng.resample('D', on='time_stamp').agg({'user_id': lambda x: list(x),'visited': lambda x: x.sum()})"
   ]
  },
  {
   "cell_type": "code",
   "execution_count": 14,
   "metadata": {},
   "outputs": [
    {
     "data": {
      "text/html": [
       "<div>\n",
       "<style scoped>\n",
       "    .dataframe tbody tr th:only-of-type {\n",
       "        vertical-align: middle;\n",
       "    }\n",
       "\n",
       "    .dataframe tbody tr th {\n",
       "        vertical-align: top;\n",
       "    }\n",
       "\n",
       "    .dataframe thead th {\n",
       "        text-align: right;\n",
       "    }\n",
       "</style>\n",
       "<table border=\"1\" class=\"dataframe\">\n",
       "  <thead>\n",
       "    <tr style=\"text-align: right;\">\n",
       "      <th></th>\n",
       "      <th>time_stamp</th>\n",
       "      <th>visited</th>\n",
       "    </tr>\n",
       "    <tr>\n",
       "      <th>user_id</th>\n",
       "      <th></th>\n",
       "      <th></th>\n",
       "    </tr>\n",
       "  </thead>\n",
       "  <tbody>\n",
       "    <tr>\n",
       "      <th>1</th>\n",
       "      <td>[2014-04-22]</td>\n",
       "      <td>1</td>\n",
       "    </tr>\n",
       "    <tr>\n",
       "      <th>2</th>\n",
       "      <td>[2013-11-15, 2013-11-29, 2013-12-09, 2013-12-2...</td>\n",
       "      <td>14</td>\n",
       "    </tr>\n",
       "    <tr>\n",
       "      <th>3</th>\n",
       "      <td>[2013-03-19]</td>\n",
       "      <td>1</td>\n",
       "    </tr>\n",
       "    <tr>\n",
       "      <th>4</th>\n",
       "      <td>[2013-05-22]</td>\n",
       "      <td>1</td>\n",
       "    </tr>\n",
       "    <tr>\n",
       "      <th>5</th>\n",
       "      <td>[2013-01-22]</td>\n",
       "      <td>1</td>\n",
       "    </tr>\n",
       "  </tbody>\n",
       "</table>\n",
       "</div>"
      ],
      "text/plain": [
       "                                                time_stamp  visited\n",
       "user_id                                                            \n",
       "1                                             [2014-04-22]        1\n",
       "2        [2013-11-15, 2013-11-29, 2013-12-09, 2013-12-2...       14\n",
       "3                                             [2013-03-19]        1\n",
       "4                                             [2013-05-22]        1\n",
       "5                                             [2013-01-22]        1"
      ]
     },
     "execution_count": 14,
     "metadata": {},
     "output_type": "execute_result"
    }
   ],
   "source": [
    "user_byday = user_eng.groupby('user_id').agg({'time_stamp': lambda x: list(x.dt.date),\n",
    "                                             'visited': lambda x: x.sum()})\n",
    "user_byday.head()"
   ]
  },
  {
   "cell_type": "code",
   "execution_count": 15,
   "metadata": {},
   "outputs": [
    {
     "name": "stdout",
     "output_type": "stream",
     "text": [
      "Out of 8823 users, only 2248 have logged in more than 3 times overall : \n"
     ]
    },
    {
     "data": {
      "text/html": [
       "<div>\n",
       "<style scoped>\n",
       "    .dataframe tbody tr th:only-of-type {\n",
       "        vertical-align: middle;\n",
       "    }\n",
       "\n",
       "    .dataframe tbody tr th {\n",
       "        vertical-align: top;\n",
       "    }\n",
       "\n",
       "    .dataframe thead th {\n",
       "        text-align: right;\n",
       "    }\n",
       "</style>\n",
       "<table border=\"1\" class=\"dataframe\">\n",
       "  <thead>\n",
       "    <tr style=\"text-align: right;\">\n",
       "      <th></th>\n",
       "      <th>time_stamp</th>\n",
       "      <th>visited</th>\n",
       "    </tr>\n",
       "    <tr>\n",
       "      <th>user_id</th>\n",
       "      <th></th>\n",
       "      <th></th>\n",
       "    </tr>\n",
       "  </thead>\n",
       "  <tbody>\n",
       "    <tr>\n",
       "      <th>11975</th>\n",
       "      <td>[2013-03-29, 2013-04-04, 2013-04-10, 2013-04-1...</td>\n",
       "      <td>216</td>\n",
       "    </tr>\n",
       "    <tr>\n",
       "      <th>11980</th>\n",
       "      <td>[2014-02-02, 2014-03-01, 2014-03-08, 2014-03-1...</td>\n",
       "      <td>8</td>\n",
       "    </tr>\n",
       "    <tr>\n",
       "      <th>11981</th>\n",
       "      <td>[2013-03-06, 2013-03-21, 2013-03-25, 2013-04-02]</td>\n",
       "      <td>4</td>\n",
       "    </tr>\n",
       "    <tr>\n",
       "      <th>11988</th>\n",
       "      <td>[2014-03-17, 2014-03-18, 2014-03-19, 2014-03-2...</td>\n",
       "      <td>30</td>\n",
       "    </tr>\n",
       "    <tr>\n",
       "      <th>11991</th>\n",
       "      <td>[2014-04-20, 2014-04-25, 2014-04-28, 2014-05-1...</td>\n",
       "      <td>5</td>\n",
       "    </tr>\n",
       "  </tbody>\n",
       "</table>\n",
       "</div>"
      ],
      "text/plain": [
       "                                                time_stamp  visited\n",
       "user_id                                                            \n",
       "11975    [2013-03-29, 2013-04-04, 2013-04-10, 2013-04-1...      216\n",
       "11980    [2014-02-02, 2014-03-01, 2014-03-08, 2014-03-1...        8\n",
       "11981     [2013-03-06, 2013-03-21, 2013-03-25, 2013-04-02]        4\n",
       "11988    [2014-03-17, 2014-03-18, 2014-03-19, 2014-03-2...       30\n",
       "11991    [2014-04-20, 2014-04-25, 2014-04-28, 2014-05-1...        5"
      ]
     },
     "execution_count": 15,
     "metadata": {},
     "output_type": "execute_result"
    }
   ],
   "source": [
    "user_filt = user_byday[user_byday['visited'] > 2]\n",
    "print('Out of {} users, only {} have logged in more than 3 times overall : '.format(\n",
    "      len(user_byday), len(user_filt)))\n",
    "user_filt.tail()"
   ]
  },
  {
   "cell_type": "code",
   "execution_count": 16,
   "metadata": {},
   "outputs": [],
   "source": [
    "adopted_userid = []\n",
    "\n",
    "for row, val in user_filt.iterrows():\n",
    "    \n",
    "    # create dataframe out of the time_stamp column lists\n",
    "    df = pd.DataFrame({'time_stamp': val.time_stamp}).astype('datetime64')\n",
    "    df['count'] = 1\n",
    "    \n",
    "    adopted = 0\n",
    "    \n",
    "    # Iterate over login days till the second to last day\n",
    "    for i in range(len(df)-2): \n",
    "        if df.time_stamp.iloc[i + 2] - df.time_stamp.iloc[i] <= timedelta(days=7):\n",
    "            adopted = 1\n",
    "    \n",
    "    # collect user ids which have logged in \n",
    "    # more than 3 times for atleast one week\n",
    "    if adopted == 1:\n",
    "        adopted_userid.append(row)"
   ]
  },
  {
   "cell_type": "code",
   "execution_count": 17,
   "metadata": {},
   "outputs": [],
   "source": [
    "# group dates weekly, aggregate days by summing, filter with minimum of 3 days in a week and count\n",
    "# count = (df.resample('W', on='time_stamp').sum() > 2).sum()"
   ]
  },
  {
   "cell_type": "markdown",
   "metadata": {},
   "source": [
    "Note: In the above commented resampling, changing the starting day of the week may alter filtration\n",
    "of some user ids to have less or more login counts. Hence, not robust."
   ]
  },
  {
   "cell_type": "code",
   "execution_count": 18,
   "metadata": {},
   "outputs": [
    {
     "name": "stdout",
     "output_type": "stream",
     "text": [
      "There are 1656 adopted users in the dataset who have \n",
      "logged in on 3 different days for atleast one week\n"
     ]
    }
   ],
   "source": [
    "print('There are {} adopted users in the dataset who have \\n\\\n",
    "logged in on 3 different days for atleast one week'.format(len(adopted_userid)))"
   ]
  },
  {
   "cell_type": "code",
   "execution_count": 19,
   "metadata": {},
   "outputs": [
    {
     "name": "stderr",
     "output_type": "stream",
     "text": [
      "C:\\Users\\Administrator\\Anaconda3\\lib\\site-packages\\ipykernel_launcher.py:4: SettingWithCopyWarning: \n",
      "A value is trying to be set on a copy of a slice from a DataFrame\n",
      "\n",
      "See the caveats in the documentation: https://pandas.pydata.org/pandas-docs/stable/user_guide/indexing.html#returning-a-view-versus-a-copy\n",
      "  after removing the cwd from sys.path.\n"
     ]
    }
   ],
   "source": [
    "# create new column 'adopted' for labelling users\n",
    "users['adopted'] = 0\n",
    "# update 'adopted' for adopted users \n",
    "users['adopted'][users['object_id'].isin(adopted_userid)] = 1"
   ]
  },
  {
   "cell_type": "code",
   "execution_count": 20,
   "metadata": {},
   "outputs": [
    {
     "name": "stdout",
     "output_type": "stream",
     "text": [
      "Missing entries in adopted users:  0\n",
      "Missing entries in non-adopted users:  3177\n"
     ]
    }
   ],
   "source": [
    "print('Missing entries in adopted users: ', \\\n",
    "      ((users.isna().any(axis=1)) & (users['adopted']==1)).sum())\n",
    "print('Missing entries in non-adopted users: ', \\\n",
    "      ((users.isna().any(axis=1)) & (users['adopted']==0)).sum())"
   ]
  },
  {
   "cell_type": "markdown",
   "metadata": {},
   "source": [
    "For the 'last_session_creation_time' column imputation purpose, given that all missing values are only present in non-adopted user rows, we can assume that the first creation session was indeed first and last."
   ]
  },
  {
   "cell_type": "code",
   "execution_count": 21,
   "metadata": {},
   "outputs": [],
   "source": [
    "users.last_session_creation_time = users.last_session_creation_time.fillna(users.creation_time)"
   ]
  },
  {
   "cell_type": "markdown",
   "metadata": {},
   "source": [
    "Checking the org_id column -"
   ]
  },
  {
   "cell_type": "code",
   "execution_count": 22,
   "metadata": {
    "scrolled": true
   },
   "outputs": [
    {
     "name": "stdout",
     "output_type": "stream",
     "text": [
      "Range of org_ids : 0 - 416\n",
      "Number of unique org ids 417\n"
     ]
    }
   ],
   "source": [
    "print('Range of org_ids : {} - {}'.format(users['org_id'].min(), users['org_id'].max()))\n",
    "print('Number of unique org ids', len(users['org_id'].unique()))"
   ]
  },
  {
   "cell_type": "code",
   "execution_count": 23,
   "metadata": {},
   "outputs": [
    {
     "data": {
      "text/html": [
       "<div>\n",
       "<style scoped>\n",
       "    .dataframe tbody tr th:only-of-type {\n",
       "        vertical-align: middle;\n",
       "    }\n",
       "\n",
       "    .dataframe tbody tr th {\n",
       "        vertical-align: top;\n",
       "    }\n",
       "\n",
       "    .dataframe thead th {\n",
       "        text-align: right;\n",
       "    }\n",
       "</style>\n",
       "<table border=\"1\" class=\"dataframe\">\n",
       "  <thead>\n",
       "    <tr style=\"text-align: right;\">\n",
       "      <th></th>\n",
       "      <th>object_id</th>\n",
       "      <th>creation_time</th>\n",
       "      <th>name</th>\n",
       "      <th>email</th>\n",
       "      <th>creation_source</th>\n",
       "      <th>last_session_creation_time</th>\n",
       "      <th>opted_in_to_mailing_list</th>\n",
       "      <th>enabled_for_marketing_drip</th>\n",
       "      <th>org_id</th>\n",
       "      <th>invited_by_user_id</th>\n",
       "      <th>adopted</th>\n",
       "    </tr>\n",
       "  </thead>\n",
       "  <tbody>\n",
       "    <tr>\n",
       "      <th>5</th>\n",
       "      <td>6</td>\n",
       "      <td>2013-12-17 03:37:06</td>\n",
       "      <td>Cunha Eduardo</td>\n",
       "      <td>EduardoPereiraCunha@yahoo.com</td>\n",
       "      <td>GUEST_INVITE</td>\n",
       "      <td>2013-12-19 03:37:06</td>\n",
       "      <td>0</td>\n",
       "      <td>0</td>\n",
       "      <td>197</td>\n",
       "      <td>11241</td>\n",
       "      <td>0</td>\n",
       "    </tr>\n",
       "    <tr>\n",
       "      <th>6</th>\n",
       "      <td>7</td>\n",
       "      <td>2012-12-16 13:24:32</td>\n",
       "      <td>Sewell Tyler</td>\n",
       "      <td>TylerSewell@jourrapide.com</td>\n",
       "      <td>SIGNUP</td>\n",
       "      <td>2012-12-20 13:24:32</td>\n",
       "      <td>0</td>\n",
       "      <td>1</td>\n",
       "      <td>37</td>\n",
       "      <td>0</td>\n",
       "      <td>0</td>\n",
       "    </tr>\n",
       "    <tr>\n",
       "      <th>7</th>\n",
       "      <td>8</td>\n",
       "      <td>2013-07-31 05:34:02</td>\n",
       "      <td>Hamilton Danielle</td>\n",
       "      <td>DanielleHamilton@yahoo.com</td>\n",
       "      <td>PERSONAL_PROJECTS</td>\n",
       "      <td>2013-07-31 05:34:02</td>\n",
       "      <td>1</td>\n",
       "      <td>1</td>\n",
       "      <td>74</td>\n",
       "      <td>0</td>\n",
       "      <td>0</td>\n",
       "    </tr>\n",
       "    <tr>\n",
       "      <th>8</th>\n",
       "      <td>9</td>\n",
       "      <td>2013-11-05 04:04:24</td>\n",
       "      <td>Amsel Paul</td>\n",
       "      <td>PaulAmsel@hotmail.com</td>\n",
       "      <td>PERSONAL_PROJECTS</td>\n",
       "      <td>2013-11-05 04:04:24</td>\n",
       "      <td>0</td>\n",
       "      <td>0</td>\n",
       "      <td>302</td>\n",
       "      <td>0</td>\n",
       "      <td>0</td>\n",
       "    </tr>\n",
       "    <tr>\n",
       "      <th>9</th>\n",
       "      <td>10</td>\n",
       "      <td>2013-01-16 22:08:03</td>\n",
       "      <td>Santos Carla</td>\n",
       "      <td>CarlaFerreiraSantos@gustr.com</td>\n",
       "      <td>ORG_INVITE</td>\n",
       "      <td>2014-06-03 22:08:03</td>\n",
       "      <td>1</td>\n",
       "      <td>1</td>\n",
       "      <td>318</td>\n",
       "      <td>4143</td>\n",
       "      <td>1</td>\n",
       "    </tr>\n",
       "  </tbody>\n",
       "</table>\n",
       "</div>"
      ],
      "text/plain": [
       "   object_id       creation_time               name  \\\n",
       "5          6 2013-12-17 03:37:06      Cunha Eduardo   \n",
       "6          7 2012-12-16 13:24:32       Sewell Tyler   \n",
       "7          8 2013-07-31 05:34:02  Hamilton Danielle   \n",
       "8          9 2013-11-05 04:04:24         Amsel Paul   \n",
       "9         10 2013-01-16 22:08:03       Santos Carla   \n",
       "\n",
       "                           email    creation_source  \\\n",
       "5  EduardoPereiraCunha@yahoo.com       GUEST_INVITE   \n",
       "6     TylerSewell@jourrapide.com             SIGNUP   \n",
       "7     DanielleHamilton@yahoo.com  PERSONAL_PROJECTS   \n",
       "8          PaulAmsel@hotmail.com  PERSONAL_PROJECTS   \n",
       "9  CarlaFerreiraSantos@gustr.com         ORG_INVITE   \n",
       "\n",
       "  last_session_creation_time  opted_in_to_mailing_list  \\\n",
       "5        2013-12-19 03:37:06                         0   \n",
       "6        2012-12-20 13:24:32                         0   \n",
       "7        2013-07-31 05:34:02                         1   \n",
       "8        2013-11-05 04:04:24                         0   \n",
       "9        2014-06-03 22:08:03                         1   \n",
       "\n",
       "   enabled_for_marketing_drip  org_id  invited_by_user_id  adopted  \n",
       "5                           0     197               11241        0  \n",
       "6                           1      37                   0        0  \n",
       "7                           1      74                   0        0  \n",
       "8                           0     302                   0        0  \n",
       "9                           1     318                4143        1  "
      ]
     },
     "execution_count": 23,
     "metadata": {},
     "output_type": "execute_result"
    }
   ],
   "source": [
    "users[5:10]"
   ]
  },
  {
   "cell_type": "markdown",
   "metadata": {},
   "source": [
    "Now let's see which columns are meaningful to our analysis and how:\n",
    "- object_id : user ids \n",
    "> unique to a user : should be set as index\n",
    "- name / email \n",
    "> unique to a user but redundant given user id :  should be removed\n",
    "- creation time and last session time\n",
    "> may not be as usefull on their own : should be used to calculate user activity duration\n",
    "- creation source\n",
    "> categorial : should be label encoded\n",
    "- opted for mailing list and marketing drip\n",
    "> categorical and already binary encoded\n",
    "- org_id : group id a user belongs to\n",
    "> Categorical feature with integer values : shouldn't be changed\n",
    "- invited_by_user_id\n",
    "> the ids on their own may not be meaningful, but as a binary feature of being invited or not can give some information. Remember, the value 0 here denotes the user was not invited by any other user.\n"
   ]
  },
  {
   "cell_type": "code",
   "execution_count": 24,
   "metadata": {},
   "outputs": [],
   "source": [
    "# set index as user ids\n",
    "users = users.set_index('object_id')"
   ]
  },
  {
   "cell_type": "code",
   "execution_count": 25,
   "metadata": {},
   "outputs": [],
   "source": [
    "# drop redundant columns\n",
    "users = users.drop(['name', 'email'], axis=1)"
   ]
  },
  {
   "cell_type": "code",
   "execution_count": 26,
   "metadata": {},
   "outputs": [],
   "source": [
    "# create 'activity duration' column in day units and remove creation and last session time columns\n",
    "users['activity_dur'] = users.last_session_creation_time - users.creation_time\n",
    "users.activity_dur = users.activity_dur.dt.days\n",
    "users = users.drop(['creation_time', 'last_session_creation_time'], axis=1)"
   ]
  },
  {
   "cell_type": "code",
   "execution_count": 27,
   "metadata": {},
   "outputs": [],
   "source": [
    "# encode creation source lables\n",
    "source_enc = LabelEncoder().fit(users.creation_source)\n",
    "users.creation_source = source_enc.transform(users.creation_source)"
   ]
  },
  {
   "cell_type": "code",
   "execution_count": 28,
   "metadata": {},
   "outputs": [
    {
     "name": "stderr",
     "output_type": "stream",
     "text": [
      "C:\\Users\\Administrator\\Anaconda3\\lib\\site-packages\\ipykernel_launcher.py:2: SettingWithCopyWarning: \n",
      "A value is trying to be set on a copy of a slice from a DataFrame\n",
      "\n",
      "See the caveats in the documentation: https://pandas.pydata.org/pandas-docs/stable/user_guide/indexing.html#returning-a-view-versus-a-copy\n",
      "  \n"
     ]
    }
   ],
   "source": [
    "# Binarize invited_by_user\n",
    "users.invited_by_user_id[users.invited_by_user_id > 0] = 1"
   ]
  },
  {
   "cell_type": "code",
   "execution_count": 29,
   "metadata": {
    "scrolled": true
   },
   "outputs": [
    {
     "data": {
      "text/html": [
       "<div>\n",
       "<style scoped>\n",
       "    .dataframe tbody tr th:only-of-type {\n",
       "        vertical-align: middle;\n",
       "    }\n",
       "\n",
       "    .dataframe tbody tr th {\n",
       "        vertical-align: top;\n",
       "    }\n",
       "\n",
       "    .dataframe thead th {\n",
       "        text-align: right;\n",
       "    }\n",
       "</style>\n",
       "<table border=\"1\" class=\"dataframe\">\n",
       "  <thead>\n",
       "    <tr style=\"text-align: right;\">\n",
       "      <th></th>\n",
       "      <th>creation_source</th>\n",
       "      <th>opted_in_to_mailing_list</th>\n",
       "      <th>enabled_for_marketing_drip</th>\n",
       "      <th>org_id</th>\n",
       "      <th>invited_by_user_id</th>\n",
       "      <th>adopted</th>\n",
       "      <th>activity_dur</th>\n",
       "    </tr>\n",
       "    <tr>\n",
       "      <th>object_id</th>\n",
       "      <th></th>\n",
       "      <th></th>\n",
       "      <th></th>\n",
       "      <th></th>\n",
       "      <th></th>\n",
       "      <th></th>\n",
       "      <th></th>\n",
       "    </tr>\n",
       "  </thead>\n",
       "  <tbody>\n",
       "    <tr>\n",
       "      <th>11996</th>\n",
       "      <td>1</td>\n",
       "      <td>0</td>\n",
       "      <td>0</td>\n",
       "      <td>89</td>\n",
       "      <td>1</td>\n",
       "      <td>0</td>\n",
       "      <td>0</td>\n",
       "    </tr>\n",
       "    <tr>\n",
       "      <th>11997</th>\n",
       "      <td>4</td>\n",
       "      <td>0</td>\n",
       "      <td>0</td>\n",
       "      <td>200</td>\n",
       "      <td>0</td>\n",
       "      <td>0</td>\n",
       "      <td>5</td>\n",
       "    </tr>\n",
       "    <tr>\n",
       "      <th>11998</th>\n",
       "      <td>0</td>\n",
       "      <td>1</td>\n",
       "      <td>1</td>\n",
       "      <td>83</td>\n",
       "      <td>1</td>\n",
       "      <td>0</td>\n",
       "      <td>0</td>\n",
       "    </tr>\n",
       "    <tr>\n",
       "      <th>11999</th>\n",
       "      <td>2</td>\n",
       "      <td>0</td>\n",
       "      <td>0</td>\n",
       "      <td>6</td>\n",
       "      <td>0</td>\n",
       "      <td>0</td>\n",
       "      <td>2</td>\n",
       "    </tr>\n",
       "    <tr>\n",
       "      <th>12000</th>\n",
       "      <td>3</td>\n",
       "      <td>0</td>\n",
       "      <td>1</td>\n",
       "      <td>0</td>\n",
       "      <td>0</td>\n",
       "      <td>0</td>\n",
       "      <td>0</td>\n",
       "    </tr>\n",
       "  </tbody>\n",
       "</table>\n",
       "</div>"
      ],
      "text/plain": [
       "           creation_source  opted_in_to_mailing_list  \\\n",
       "object_id                                              \n",
       "11996                    1                         0   \n",
       "11997                    4                         0   \n",
       "11998                    0                         1   \n",
       "11999                    2                         0   \n",
       "12000                    3                         0   \n",
       "\n",
       "           enabled_for_marketing_drip  org_id  invited_by_user_id  adopted  \\\n",
       "object_id                                                                    \n",
       "11996                               0      89                   1        0   \n",
       "11997                               0     200                   0        0   \n",
       "11998                               1      83                   1        0   \n",
       "11999                               0       6                   0        0   \n",
       "12000                               1       0                   0        0   \n",
       "\n",
       "           activity_dur  \n",
       "object_id                \n",
       "11996                 0  \n",
       "11997                 5  \n",
       "11998                 0  \n",
       "11999                 2  \n",
       "12000                 0  "
      ]
     },
     "execution_count": 29,
     "metadata": {},
     "output_type": "execute_result"
    }
   ],
   "source": [
    "users.tail()"
   ]
  },
  {
   "cell_type": "markdown",
   "metadata": {},
   "source": [
    "Let's start modeling! Separating our input dataframe and data labels"
   ]
  },
  {
   "cell_type": "code",
   "execution_count": 30,
   "metadata": {},
   "outputs": [
    {
     "data": {
      "text/html": [
       "<div>\n",
       "<style scoped>\n",
       "    .dataframe tbody tr th:only-of-type {\n",
       "        vertical-align: middle;\n",
       "    }\n",
       "\n",
       "    .dataframe tbody tr th {\n",
       "        vertical-align: top;\n",
       "    }\n",
       "\n",
       "    .dataframe thead th {\n",
       "        text-align: right;\n",
       "    }\n",
       "</style>\n",
       "<table border=\"1\" class=\"dataframe\">\n",
       "  <thead>\n",
       "    <tr style=\"text-align: right;\">\n",
       "      <th></th>\n",
       "      <th>creation_source</th>\n",
       "      <th>opted_in_to_mailing_list</th>\n",
       "      <th>enabled_for_marketing_drip</th>\n",
       "      <th>org_id</th>\n",
       "      <th>invited_by_user_id</th>\n",
       "      <th>activity_dur</th>\n",
       "    </tr>\n",
       "    <tr>\n",
       "      <th>object_id</th>\n",
       "      <th></th>\n",
       "      <th></th>\n",
       "      <th></th>\n",
       "      <th></th>\n",
       "      <th></th>\n",
       "      <th></th>\n",
       "    </tr>\n",
       "  </thead>\n",
       "  <tbody>\n",
       "    <tr>\n",
       "      <th>1</th>\n",
       "      <td>0</td>\n",
       "      <td>1</td>\n",
       "      <td>0</td>\n",
       "      <td>11</td>\n",
       "      <td>1</td>\n",
       "      <td>0</td>\n",
       "    </tr>\n",
       "    <tr>\n",
       "      <th>2</th>\n",
       "      <td>1</td>\n",
       "      <td>0</td>\n",
       "      <td>0</td>\n",
       "      <td>1</td>\n",
       "      <td>1</td>\n",
       "      <td>136</td>\n",
       "    </tr>\n",
       "    <tr>\n",
       "      <th>3</th>\n",
       "      <td>1</td>\n",
       "      <td>0</td>\n",
       "      <td>0</td>\n",
       "      <td>94</td>\n",
       "      <td>1</td>\n",
       "      <td>0</td>\n",
       "    </tr>\n",
       "    <tr>\n",
       "      <th>4</th>\n",
       "      <td>0</td>\n",
       "      <td>0</td>\n",
       "      <td>0</td>\n",
       "      <td>1</td>\n",
       "      <td>1</td>\n",
       "      <td>1</td>\n",
       "    </tr>\n",
       "    <tr>\n",
       "      <th>5</th>\n",
       "      <td>0</td>\n",
       "      <td>0</td>\n",
       "      <td>0</td>\n",
       "      <td>193</td>\n",
       "      <td>1</td>\n",
       "      <td>5</td>\n",
       "    </tr>\n",
       "  </tbody>\n",
       "</table>\n",
       "</div>"
      ],
      "text/plain": [
       "           creation_source  opted_in_to_mailing_list  \\\n",
       "object_id                                              \n",
       "1                        0                         1   \n",
       "2                        1                         0   \n",
       "3                        1                         0   \n",
       "4                        0                         0   \n",
       "5                        0                         0   \n",
       "\n",
       "           enabled_for_marketing_drip  org_id  invited_by_user_id  \\\n",
       "object_id                                                           \n",
       "1                                   0      11                   1   \n",
       "2                                   0       1                   1   \n",
       "3                                   0      94                   1   \n",
       "4                                   0       1                   1   \n",
       "5                                   0     193                   1   \n",
       "\n",
       "           activity_dur  \n",
       "object_id                \n",
       "1                     0  \n",
       "2                   136  \n",
       "3                     0  \n",
       "4                     1  \n",
       "5                     5  "
      ]
     },
     "execution_count": 30,
     "metadata": {},
     "output_type": "execute_result"
    }
   ],
   "source": [
    "data_x = users.drop(['adopted'], axis=1)\n",
    "data_y = users['adopted']\n",
    "data_x.head()"
   ]
  },
  {
   "cell_type": "code",
   "execution_count": 31,
   "metadata": {},
   "outputs": [],
   "source": [
    "X_train, X_test, y_train, y_test = train_test_split( \\\n",
    "        data_x, data_y, test_size=0.25, stratify=data_y, random_state=17)"
   ]
  },
  {
   "cell_type": "code",
   "execution_count": 32,
   "metadata": {},
   "outputs": [
    {
     "name": "stdout",
     "output_type": "stream",
     "text": [
      "{'criterion': 'entropy', 'max_depth': 20, 'max_features': 0.5, 'max_samples': 0.6, 'n_estimators': 200}\n"
     ]
    }
   ],
   "source": [
    "rfc = RandomForestClassifier(random_state=17, class_weight='balanced_subsample')\n",
    "\n",
    "hpar = { 'n_estimators' : [50, 100, 150, 200], 'criterion' : ['gini', 'entropy'], \n",
    "         'max_features' : [None, 0.3, 0.5, 0.7], 'max_samples': [0.6, 0.8, 1],\n",
    "         'max_depth' : [5, 10, 15, 20]}\n",
    "\n",
    "rfc_cv = GridSearchCV(rfc , param_grid = hpar , cv = 5)\n",
    "rfc_cv.fit(X_train, y_train)\n",
    "\n",
    "print(rfc_cv.best_params_)"
   ]
  },
  {
   "cell_type": "code",
   "execution_count": 33,
   "metadata": {},
   "outputs": [
    {
     "name": "stdout",
     "output_type": "stream",
     "text": [
      " Accuracy on training data : \n",
      "               precision    recall  f1-score   support\n",
      "\n",
      " non-adopted       1.00      1.00      1.00      7758\n",
      "     adopted       0.99      0.97      0.98      1242\n",
      "\n",
      "    accuracy                           0.99      9000\n",
      "   macro avg       0.99      0.99      0.99      9000\n",
      "weighted avg       0.99      0.99      0.99      9000\n",
      "\n",
      " Accuracy on test data : \n",
      "               precision    recall  f1-score   support\n",
      "\n",
      " non-adopted       0.98      0.99      0.98      2586\n",
      "     adopted       0.94      0.86      0.90       414\n",
      "\n",
      "    accuracy                           0.97      3000\n",
      "   macro avg       0.96      0.93      0.94      3000\n",
      "weighted avg       0.97      0.97      0.97      3000\n",
      "\n"
     ]
    }
   ],
   "source": [
    "print(' Accuracy on training data : \\n' , classification_report(y_train, rfc_cv.predict(X_train), target_names=['non-adopted', 'adopted']))\n",
    "print(' Accuracy on test data : \\n' , classification_report(y_test, rfc_cv.predict(X_test), target_names=['non-adopted', 'adopted']))"
   ]
  },
  {
   "cell_type": "code",
   "execution_count": 34,
   "metadata": {
    "scrolled": true
   },
   "outputs": [
    {
     "data": {
      "image/png": "[encoded data removed]",
      "text/plain": [
       "<Figure size 720x216 with 1 Axes>"
      ]
     },
     "metadata": {
      "needs_background": "light"
     },
     "output_type": "display_data"
    }
   ],
   "source": [
    "importances = rfc_cv.best_estimator_.feature_importances_\n",
    "std = np.std([tree.feature_importances_ for tree in rfc_cv.best_estimator_.estimators_],\n",
    "             axis=0)\n",
    "indices = np.argsort(importances)[::-1]\n",
    "f_indices = [data_x.columns[i] for i in indices]\n",
    "\n",
    "plt.figure(figsize = (10,3))\n",
    "plt.title(\"Feature importance\")\n",
    "plt.bar(range(data_x.shape[1]), importances[indices],\n",
    "       color=\"r\", yerr=std[indices], align=\"center\")\n",
    "plt.xticks(range(data_x.shape[1]), f_indices, rotation = 60)\n",
    "plt.xlim([-1, data_x.shape[1]])\n",
    "plt.show()"
   ]
  },
  {
   "cell_type": "markdown",
   "metadata": {},
   "source": [
    "It seems straight-forward that activity duration would the most important feature since it would be directly related to the criterion we define for an 'adopted' user. So, let's remove it and see how the features fare."
   ]
  },
  {
   "cell_type": "code",
   "execution_count": 35,
   "metadata": {},
   "outputs": [],
   "source": [
    "data_x2 = users.drop(['adopted', 'activity_dur'], axis=1)"
   ]
  },
  {
   "cell_type": "code",
   "execution_count": 36,
   "metadata": {},
   "outputs": [],
   "source": [
    "X2_train, X2_test, y2_train, y2_test = train_test_split(\\\n",
    "        data_x2, data_y, test_size=0.25, stratify=data_y, random_state=17)"
   ]
  },
  {
   "cell_type": "code",
   "execution_count": 37,
   "metadata": {},
   "outputs": [
    {
     "name": "stdout",
     "output_type": "stream",
     "text": [
      "{'criterion': 'gini', 'max_depth': 5, 'max_features': None, 'max_samples': 1, 'n_estimators': 50}\n"
     ]
    }
   ],
   "source": [
    "rfc_cv2 = GridSearchCV(rfc , param_grid = hpar , cv = 5)\n",
    "rfc_cv2.fit(X2_train, y2_train)\n",
    "\n",
    "print(rfc_cv2.best_params_)"
   ]
  },
  {
   "cell_type": "code",
   "execution_count": 38,
   "metadata": {},
   "outputs": [
    {
     "name": "stdout",
     "output_type": "stream",
     "text": [
      " Accuracy on training data : \n",
      "               precision    recall  f1-score   support\n",
      "\n",
      " non-adopted       0.86      1.00      0.93      7758\n",
      "     adopted       0.00      0.00      0.00      1242\n",
      "\n",
      "    accuracy                           0.86      9000\n",
      "   macro avg       0.43      0.50      0.46      9000\n",
      "weighted avg       0.74      0.86      0.80      9000\n",
      "\n",
      " Accuracy on test data : \n",
      "               precision    recall  f1-score   support\n",
      "\n",
      " non-adopted       0.86      1.00      0.93      2586\n",
      "     adopted       0.00      0.00      0.00       414\n",
      "\n",
      "    accuracy                           0.86      3000\n",
      "   macro avg       0.43      0.50      0.46      3000\n",
      "weighted avg       0.74      0.86      0.80      3000\n",
      "\n"
     ]
    },
    {
     "name": "stderr",
     "output_type": "stream",
     "text": [
      "C:\\Users\\Administrator\\Anaconda3\\lib\\site-packages\\sklearn\\metrics\\_classification.py:1272: UndefinedMetricWarning: Precision and F-score are ill-defined and being set to 0.0 in labels with no predicted samples. Use `zero_division` parameter to control this behavior.\n",
      "  _warn_prf(average, modifier, msg_start, len(result))\n",
      "C:\\Users\\Administrator\\Anaconda3\\lib\\site-packages\\sklearn\\metrics\\_classification.py:1272: UndefinedMetricWarning: Precision and F-score are ill-defined and being set to 0.0 in labels with no predicted samples. Use `zero_division` parameter to control this behavior.\n",
      "  _warn_prf(average, modifier, msg_start, len(result))\n"
     ]
    }
   ],
   "source": [
    "print(' Accuracy on training data : \\n' , classification_report(y2_train, rfc_cv2.predict(X2_train), target_names=['non-adopted', 'adopted']))\n",
    "print(' Accuracy on test data : \\n' , classification_report(y2_test, rfc_cv2.predict(X2_test), target_names=['non-adopted', 'adopted']))"
   ]
  },
  {
   "cell_type": "code",
   "execution_count": 39,
   "metadata": {},
   "outputs": [
    {
     "data": {
      "image/png": "[encoded data removed]",
      "text/plain": [
       "<Figure size 720x216 with 1 Axes>"
      ]
     },
     "metadata": {
      "needs_background": "light"
     },
     "output_type": "display_data"
    }
   ],
   "source": [
    "importances = rfc_cv2.best_estimator_.feature_importances_\n",
    "std = np.std([tree.feature_importances_ for tree in rfc_cv2.best_estimator_.estimators_], axis=0)\n",
    "indices = np.argsort(importances)[::-1]\n",
    "f_indices = [data_x2.columns[i] for i in indices]\n",
    "\n",
    "plt.figure(figsize = (10,3))\n",
    "plt.title(\"Feature importance\")\n",
    "plt.bar(range(data_x2.shape[1]), importances[indices],\n",
    "       color=\"r\", yerr=std[indices], align=\"center\")\n",
    "plt.xticks(range(data_x2.shape[1]), f_indices, rotation = 60)\n",
    "plt.xlim([-1, data_x2.shape[1]])\n",
    "plt.show()"
   ]
  },
  {
   "cell_type": "markdown",
   "metadata": {},
   "source": [
    "It seems that these 5 features (after removing activity duration) are not enough on their own to be good predictors of adoption. We should consider a different approach to feature engineering to come up with a good model. For example, we can try to extract any seasonal pattern in the adoption pattern from creation time."
   ]
  },
  {
   "cell_type": "code",
   "execution_count": null,
   "metadata": {},
   "outputs": [],
   "source": []
  }
 ],
 "metadata": {
  "kernelspec": {
   "display_name": "Python 3",
   "language": "python",
   "name": "python3"
  },
  "language_info": {
   "codemirror_mode": {
    "name": "ipython",
    "version": 3
   },
   "file_extension": ".py",
   "mimetype": "text/x-python",
   "name": "python",
   "nbconvert_exporter": "python",
   "pygments_lexer": "ipython3",
   "version": "3.7.7"
  }
 },
 "nbformat": 4,
 "nbformat_minor": 4
}
